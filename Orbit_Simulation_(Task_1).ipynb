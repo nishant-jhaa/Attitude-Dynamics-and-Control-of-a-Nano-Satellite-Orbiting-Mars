{
  "nbformat": 4,
  "nbformat_minor": 0,
  "metadata": {
    "colab": {
      "provenance": [],
      "authorship_tag": "ABX9TyMQiLtWOx+7eJP09NNjud20",
      "include_colab_link": true
    },
    "kernelspec": {
      "name": "python3",
      "display_name": "Python 3"
    },
    "language_info": {
      "name": "python"
    }
  },
  "cells": [
    {
      "cell_type": "markdown",
      "metadata": {
        "id": "view-in-github",
        "colab_type": "text"
      },
      "source": [
        "<a href=\"https://colab.research.google.com/github/nishant-jhaa/Attitude-Dynamics-and-Control-of-a-Nano-Satellite-Orbiting-Mars/blob/main/Orbit_Simulation_(Task_1).ipynb\" target=\"_parent\"><img src=\"https://colab.research.google.com/assets/colab-badge.svg\" alt=\"Open In Colab\"/></a>"
      ]
    },
    {
      "cell_type": "code",
      "execution_count": 1,
      "metadata": {
        "id": "IV6kAq_n_KCv"
      },
      "outputs": [],
      "source": [
        "import numpy as np\n",
        "import matplotlib.pyplot as plt\n",
        "import math"
      ]
    },
    {
      "cell_type": "markdown",
      "source": [
        "**Given Initial Conditions**"
      ],
      "metadata": {
        "id": "QSaYCsCnBGFE"
      }
    },
    {
      "cell_type": "code",
      "source": [
        "mars_R = 3396.19 #km\n",
        "mars_mu = 42828.3 #km /s\n",
        "\n",
        "#For LMO\n",
        "altitude = 400 #km \n",
        "r_LMO = mars_R + altitude\n",
        "theta_dot_LMO = np.sqrt(mars_mu/r_LMO**3) #rad/sec\n",
        "t_LMO = 330 #s\n",
        "angles_LMO = np.array([20,30,60])*np.pi/180 #Ω,i,θ(t_0), in radians\n",
        "angles_LMO += np.array([0,0, theta_dot_LMO*t_LMO]) #Ω,i,θ(t), in radians\n",
        "\n",
        "#For GMO\n",
        "r_GMO = 20424.2 #km\n",
        "theta_dot_GMO = np.sqrt(mars_mu/r_GMO**3) #rad/s\n",
        "t_GMO = 1150 #s\n",
        "angles_GMO = np.array([0,0,250])*np.pi/180 #Ω,i,θ(t_0), in radians\n",
        "angles_GMO += np.array([0,0, theta_dot_GMO*t_GMO]) #Ω,i,θ(t), in radians\n",
        "\n",
        "#For Spacecraft\n",
        "sigma_BN = np.array([0.3, -0.4, 0.5])\n",
        "w_BN_B = np.array([1.0, 1.75, -2.2])*np.pi/180\n",
        "I = np.array([[10,0,0],[0,5,0],[0,0,7.5]])"
      ],
      "metadata": {
        "id": "UPFBETRs_NYS"
      },
      "execution_count": 2,
      "outputs": []
    },
    {
      "cell_type": "code",
      "source": [
        "def DCM_from_euler(x, seq):\n",
        "   # This function computes the Direct Cosine Matrix (DCM) from a set of Euler angles and its rotational sequence\n",
        "    \n",
        "    for e in x:\n",
        "        while e>2*np.pi:\n",
        "            e -= 2*np.pi\n",
        "    DCM_all = []\n",
        "    \n",
        "    for i,s in enumerate(seq):\n",
        "        if s==3:\n",
        "            # 3\n",
        "            DCM_all.append(np.array([[ math.cos(x[i]), math.sin(x[i]),  0],\n",
        "                   [ -math.sin(x[i]),  math.cos(x[i]), 0],\n",
        "                   [ 0,  0,  1]]))\n",
        "        elif s==2:\n",
        "            # 2\n",
        "            DCM_all.append(np.array([[ math.cos(x[i]), 0,  -math.sin(x[i])],\n",
        "                   [ 0, 1, 0],\n",
        "                   [ math.sin(x[i]),  0,  math.cos(x[i])]]))\n",
        "        elif s==1:\n",
        "            # 1\n",
        "            DCM_all.append(np.array([[ 1, 0,  0],\n",
        "                   [ 0,  math.cos(x[i]), math.sin(x[i])],\n",
        "                   [ 0,  -math.sin(x[i]),  math.cos(x[i])]]))\n",
        "    if len(seq)!=3:\n",
        "        print(\"Kindly Recheck!!. Sequence does not have a length of 3.\")\n",
        "        return None\n",
        "    final_DCM = DCM_all[2]@DCM_all[1]@DCM_all[0]\n",
        "    return final_DCM"
      ],
      "metadata": {
        "id": "QhSUPw51_Nad"
      },
      "execution_count": 5,
      "outputs": []
    },
    {
      "cell_type": "code",
      "source": [
        "def inertial_r_r_dot(r, angle):\n",
        "    \n",
        "    # This Takes the norm of the position vector and the set of Euler angles and returns the position and velocity vector in the inertial frame\n",
        "    \n",
        "    mars_mu = 42828.3 #km /s    \n",
        "    theta_dot = np.sqrt(mars_mu/r**3) #in rad/s\n",
        "    \n",
        "    NH = DCM_from_euler(angle, [3, 1, 3])\n",
        "    r_H = np.array([r, 0, 0])\n",
        "    r_inertial = NH.T@r_H\n",
        "    \n",
        "    r_dot = np.array([0, r*theta_dot, 0]) #[r, theta, h], in km/s\n",
        "    r_dot_inertial = NH.T@r_dot\n",
        "    return r_inertial, r_dot_inertial"
      ],
      "metadata": {
        "id": "eF7OuiSS_Ncx"
      },
      "execution_count": 7,
      "outputs": []
    }
  ]
}